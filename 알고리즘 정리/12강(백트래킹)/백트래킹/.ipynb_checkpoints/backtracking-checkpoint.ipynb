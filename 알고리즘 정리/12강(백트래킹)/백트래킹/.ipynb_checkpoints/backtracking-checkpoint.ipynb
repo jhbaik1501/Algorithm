{
 "cells": [
  {
   "cell_type": "markdown",
   "id": "02f05fcd",
   "metadata": {},
   "source": [
    "## DFS를 이용한 backtracking\n"
   ]
  },
  {
   "cell_type": "code",
   "execution_count": 5,
   "id": "46961b5e",
   "metadata": {},
   "outputs": [
    {
     "name": "stdout",
     "output_type": "stream",
     "text": [
      "3 3\n",
      "1 2 3 \n",
      "1 3 2 \n",
      "2 1 3 \n",
      "2 3 1 \n",
      "3 1 2 \n",
      "3 2 1 \n"
     ]
    }
   ],
   "source": [
    "def DFS (m, n,depth):\n",
    "    if depth == n :\n",
    "        for i in arr:\n",
    "            print(i, end= \" \")\n",
    "        print(\"\")\n",
    "        return\n",
    "    else :\n",
    "        for i in range(1,m+1) :\n",
    "            if check[i] == False :\n",
    "                \n",
    "                arr[depth] = i\n",
    "                check[i] = True\n",
    "                DFS(m, n, depth+1)\n",
    "\n",
    "                check[i] = False\n",
    "        return\n",
    "\n",
    "\n",
    "if __name__ == \"__main__\":\n",
    "\n",
    "    m, n = map(int ,input().split())\n",
    "    check = [False] * (m+1)\n",
    "    \n",
    "    arr = [0] * n\n",
    "    DFS(m, n, 0)"
   ]
  },
  {
   "cell_type": "code",
   "execution_count": 6,
   "id": "6d2eb8f3",
   "metadata": {},
   "outputs": [
    {
     "name": "stdout",
     "output_type": "stream",
     "text": [
      "3 3\n",
      "1 2 3 \n"
     ]
    }
   ],
   "source": [
    "\n",
    "def DFS (m, n,depth):\n",
    "    \n",
    "    if depth == n+1 :\n",
    "        for i in range(1, n+1):\n",
    "            print(arr[i], end=\" \")\n",
    "        print(\"\")\n",
    "        return\n",
    "    else :\n",
    "        for i in range(1,m+1) :\n",
    "            \n",
    "            if check[i] == False and arr[depth-1] > i and depth != 1: \n",
    "                continue\n",
    "                \n",
    "            else:\n",
    "                if check[i] == False :\n",
    "                    \n",
    "                    arr[depth] = i\n",
    "                    \n",
    "                    check[i] = True\n",
    "                    DFS(m, n, depth+1)\n",
    "\n",
    "                    check[i] = False\n",
    "        return\n",
    "\n",
    "\n",
    "if __name__ == \"__main__\":\n",
    "\n",
    "    m, n = map(int ,input().split())\n",
    "    check = [False] * (m+1)\n",
    "    \n",
    "    arr = [0] * (n+1)\n",
    "    DFS(m, n, 1)"
   ]
  },
  {
   "cell_type": "code",
   "execution_count": 7,
   "id": "7c67d02d",
   "metadata": {},
   "outputs": [
    {
     "name": "stdout",
     "output_type": "stream",
     "text": [
      "3 3\n",
      "1 1 1 \n",
      "1 1 2 \n",
      "1 1 3 \n",
      "1 2 1 \n",
      "1 2 2 \n",
      "1 2 3 \n",
      "1 3 1 \n",
      "1 3 2 \n",
      "1 3 3 \n",
      "2 1 1 \n",
      "2 1 2 \n",
      "2 1 3 \n",
      "2 2 1 \n",
      "2 2 2 \n",
      "2 2 3 \n",
      "2 3 1 \n",
      "2 3 2 \n",
      "2 3 3 \n",
      "3 1 1 \n",
      "3 1 2 \n",
      "3 1 3 \n",
      "3 2 1 \n",
      "3 2 2 \n",
      "3 2 3 \n",
      "3 3 1 \n",
      "3 3 2 \n",
      "3 3 3 \n"
     ]
    }
   ],
   "source": [
    "\n",
    "def DFS (m, n,depth):\n",
    "    if depth == n :\n",
    "        for i in arr:\n",
    "            print(i, end= \" \")\n",
    "        print(\"\")\n",
    "        return\n",
    "    else :\n",
    "        for i in range(1,m+1) :\n",
    "            arr[depth] = i\n",
    "            DFS(m, n, depth+1)\n",
    "        return\n",
    "\n",
    "\n",
    "if __name__ == \"__main__\":\n",
    "\n",
    "    m, n = map(int ,input().split())\n",
    "    check = [False] * (m+1)\n",
    "    \n",
    "    arr = [0] * n\n",
    "    DFS(m, n, 0)"
   ]
  },
  {
   "cell_type": "code",
   "execution_count": 8,
   "id": "7e38b6bd",
   "metadata": {},
   "outputs": [
    {
     "name": "stdout",
     "output_type": "stream",
     "text": [
      "3 3\n",
      "1 1 1 \n",
      "1 1 2 \n",
      "1 1 3 \n",
      "1 2 2 \n",
      "1 2 3 \n",
      "1 3 3 \n",
      "2 2 2 \n",
      "2 2 3 \n",
      "2 3 3 \n",
      "3 3 3 \n"
     ]
    }
   ],
   "source": [
    "\n",
    "def DFS (m, n,depth):\n",
    "    \n",
    "    if depth == n+1 :\n",
    "        for i in range(1, n+1):\n",
    "            print(arr[i], end=\" \")\n",
    "        print(\"\")\n",
    "        return\n",
    "    else :\n",
    "        for i in range(1,m+1) :\n",
    "            \n",
    "            if arr[depth-1] > i and depth != 1:\n",
    "                continue\n",
    "                \n",
    "            else:\n",
    "                arr[depth] = i\n",
    "                DFS(m, n, depth+1)\n",
    "\n",
    "    \n",
    "        return\n",
    "\n",
    "\n",
    "if __name__ == \"__main__\":\n",
    "\n",
    "    m, n = map(int ,input().split())\n",
    "    check = [False] * (m+1)\n",
    "    \n",
    "    arr = [0] * (n+1)\n",
    "    DFS(m, n, 1)"
   ]
  },
  {
   "cell_type": "code",
   "execution_count": null,
   "id": "bdcd02c0",
   "metadata": {},
   "outputs": [],
   "source": []
  }
 ],
 "metadata": {
  "kernelspec": {
   "display_name": "Python 3",
   "language": "python",
   "name": "python3"
  },
  "language_info": {
   "codemirror_mode": {
    "name": "ipython",
    "version": 3
   },
   "file_extension": ".py",
   "mimetype": "text/x-python",
   "name": "python",
   "nbconvert_exporter": "python",
   "pygments_lexer": "ipython3",
   "version": "3.8.8"
  }
 },
 "nbformat": 4,
 "nbformat_minor": 5
}
